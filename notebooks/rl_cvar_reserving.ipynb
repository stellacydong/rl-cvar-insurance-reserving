{
 "cells": [
  {
   "cell_type": "markdown",
   "id": "19b65e34",
   "metadata": {},
   "source": [
    "# RL-CVaR Reserving Demo\n",
    "End-to-end Jupyter notebook for the Adaptive Reserving with CVaR-Constrained RL framework."
   ]
  },
  {
   "cell_type": "markdown",
   "id": "b94e5352",
   "metadata": {},
   "source": [
    "## Setup & Dependencies\n",
    "Install required packages:"
   ]
  },
  {
   "cell_type": "code",
   "execution_count": null,
   "id": "d0d8efbf",
   "metadata": {},
   "outputs": [],
   "source": [
    "!pip install -r requirements.txt"
   ]
  },
  {
   "cell_type": "markdown",
   "id": "44a6494f",
   "metadata": {},
   "source": [
    "## Load Data\n",
    "Load and preview the Workers’ Compensation dataset"
   ]
  },
  {
   "cell_type": "code",
   "execution_count": null,
   "id": "28f102d8",
   "metadata": {},
   "outputs": [],
   "source": [
    "import pandas as pd\n",
    "from src.utils import load_and_preprocess\n",
    "\n",
    "df = load_and_preprocess(\"data/wkcomp_pos.csv\")\n",
    "df.head()"
   ]
  },
  {
   "cell_type": "markdown",
   "id": "2e50a9c2",
   "metadata": {},
   "source": [
    "## Instantiate Environment\n",
    "Create the Gymnasium environment with CVaR penalization"
   ]
  },
  {
   "cell_type": "code",
   "execution_count": null,
   "id": "bec2574c",
   "metadata": {},
   "outputs": [],
   "source": [
    "from src.env import ReservingEnv\n",
    "\n",
    "curriculum = {0:(1.0,0.1), 1:(1.2,0.2), 2:(1.5,0.3), 3:(1.8,0.4)}\n",
    "env = ReservingEnv(df, curriculum)\n",
    "obs, _ = env.reset()\n",
    "obs"
   ]
  },
  {
   "cell_type": "markdown",
   "id": "07148f4f",
   "metadata": {},
   "source": [
    "## (Optional) Train Model\n",
    "Run training script to learn a new policy (skip if already trained)"
   ]
  },
  {
   "cell_type": "code",
   "execution_count": null,
   "id": "7476a32f",
   "metadata": {},
   "outputs": [],
   "source": [
    "# !python src/train.py --dataset wkcomp"
   ]
  },
  {
   "cell_type": "markdown",
   "id": "0911fd85",
   "metadata": {},
   "source": [
    "## Load Pre-trained Model\n",
    "Load the trained PPO agent"
   ]
  },
  {
   "cell_type": "code",
   "execution_count": null,
   "id": "0e7e9282",
   "metadata": {},
   "outputs": [],
   "source": [
    "from stable_baselines3 import PPO\n",
    "\n",
    "model = PPO.load(\"models/ppo_cvar_reserving.zip\")"
   ]
  },
  {
   "cell_type": "markdown",
   "id": "f83c3ce3",
   "metadata": {},
   "source": [
    "## Run Stochastic & Fixed-Shock Tests\n",
    "Evaluate policy performance"
   ]
  },
  {
   "cell_type": "code",
   "execution_count": null,
   "id": "ff31bb55",
   "metadata": {},
   "outputs": [],
   "source": [
    "from src.evaluate import run_eval\n",
    "\n",
    "# Prints stochastic and fixed-shock metrics\n",
    "run_eval(\"models/ppo_cvar_reserving.zip\", \"wkcomp\")"
   ]
  },
  {
   "cell_type": "markdown",
   "id": "62fb30fc",
   "metadata": {},
   "source": [
    "## Visualize Metrics\n",
    "Example plot of Reserve Adequacy Ratio across regimes"
   ]
  },
  {
   "cell_type": "code",
   "execution_count": null,
   "id": "227de259",
   "metadata": {},
   "outputs": [],
   "source": [
    "import matplotlib.pyplot as plt\n",
    "\n",
    "# Placeholder plot; replace with real metrics\n",
    "years = [0,1,2,3]\n",
    "rar = [0.97, 0.95, 0.94, 0.93]\n",
    "\n",
    "plt.plot(years, rar)\n",
    "plt.xlabel('Regime Level')\n",
    "plt.ylabel('Reserve Adequacy Ratio')\n",
    "plt.title('RAR by Regime Level')\n",
    "plt.show()"
   ]
  }
 ],
 "metadata": {},
 "nbformat": 4,
 "nbformat_minor": 5
}
